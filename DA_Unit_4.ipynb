{
 "cells": [
  {
   "cell_type": "code",
   "execution_count": 1,
   "id": "3a59802e",
   "metadata": {},
   "outputs": [
    {
     "data": {
      "text/plain": [
       "datetime.datetime(2024, 3, 11, 19, 41, 2, 789219)"
      ]
     },
     "execution_count": 1,
     "metadata": {},
     "output_type": "execute_result"
    }
   ],
   "source": [
    "from datetime import datetime\n",
    "now=datetime.now()\n",
    "now"
   ]
  },
  {
   "cell_type": "code",
   "execution_count": 4,
   "id": "f8086448",
   "metadata": {},
   "outputs": [
    {
     "data": {
      "text/plain": [
       "(2024, 3, 11)"
      ]
     },
     "execution_count": 4,
     "metadata": {},
     "output_type": "execute_result"
    }
   ],
   "source": [
    "now.year,now.month,now.day"
   ]
  },
  {
   "cell_type": "code",
   "execution_count": 5,
   "id": "2771b73f",
   "metadata": {},
   "outputs": [
    {
     "data": {
      "text/plain": [
       "datetime.timedelta(days=926, seconds=56700)"
      ]
     },
     "execution_count": 5,
     "metadata": {},
     "output_type": "execute_result"
    }
   ],
   "source": [
    "delta=datetime(2011,1,7)-datetime(2008,6,24,8,15)\n",
    "delta\n"
   ]
  },
  {
   "cell_type": "code",
   "execution_count": 9,
   "id": "a81c8169",
   "metadata": {},
   "outputs": [
    {
     "data": {
      "text/plain": [
       "datetime.datetime(2011, 1, 19, 0, 0)"
      ]
     },
     "execution_count": 9,
     "metadata": {},
     "output_type": "execute_result"
    }
   ],
   "source": [
    "from datetime import timedelta\n",
    "start = datetime(2011, 1, 7)\n",
    "start + timedelta(12)"
   ]
  },
  {
   "cell_type": "code",
   "execution_count": 10,
   "id": "07b7174f",
   "metadata": {},
   "outputs": [
    {
     "data": {
      "text/plain": [
       "datetime.datetime(2010, 12, 14, 0, 0)"
      ]
     },
     "execution_count": 10,
     "metadata": {},
     "output_type": "execute_result"
    }
   ],
   "source": [
    "start - 2 * timedelta(12)"
   ]
  },
  {
   "cell_type": "code",
   "execution_count": 13,
   "id": "42e07297",
   "metadata": {
    "scrolled": true
   },
   "outputs": [
    {
     "data": {
      "text/plain": [
       "'2011-01-03'"
      ]
     },
     "execution_count": 13,
     "metadata": {},
     "output_type": "execute_result"
    }
   ],
   "source": [
    "stamp = datetime(2011, 1, 3)\n",
    "str(stamp) \n"
   ]
  },
  {
   "cell_type": "code",
   "execution_count": 14,
   "id": "9f385aa7",
   "metadata": {},
   "outputs": [
    {
     "data": {
      "text/plain": [
       "'2011-01-03'"
      ]
     },
     "execution_count": 14,
     "metadata": {},
     "output_type": "execute_result"
    }
   ],
   "source": [
    "stamp.strftime('%Y-%m-%d')"
   ]
  },
  {
   "cell_type": "markdown",
   "id": "6e66b9a4",
   "metadata": {},
   "source": [
    "Formatting the date and time \n",
    "In below example,\"%Y-%m-%d %H:%M:%S\" is the format string. It specifies that the output string should include the year, month, day, hour, minute, and second components, separated by hyphens, spaces, and colons.\n",
    "\n",
    "In time series analysis, you might use strftime to convert datetime objects to strings for display purposes, for generating filenames, or for any other situation where you need to represent a date and time as text."
   ]
  },
  {
   "cell_type": "code",
   "execution_count": 15,
   "id": "25a1c19b",
   "metadata": {},
   "outputs": [
    {
     "name": "stdout",
     "output_type": "stream",
     "text": [
      "2024-03-11 14:30:00\n"
     ]
    }
   ],
   "source": [
    "from datetime import datetime\n",
    "\n",
    "# Create a datetime object\n",
    "dt = datetime(2024, 3, 11, 14, 30, 0)\n",
    "\n",
    "# Format the datetime object as a string\n",
    "formatted_date = dt.strftime(\"%Y-%m-%d %H:%M:%S\")\n",
    "\n",
    "print(formatted_date)  # Output: 2024-03-11 14:30:00\n"
   ]
  },
  {
   "cell_type": "markdown",
   "id": "fda8a717",
   "metadata": {},
   "source": [
    "strptime is used to parse strings into date and time objects."
   ]
  },
  {
   "cell_type": "code",
   "execution_count": 16,
   "id": "02c491de",
   "metadata": {},
   "outputs": [
    {
     "name": "stdout",
     "output_type": "stream",
     "text": [
      "2024-03-11 14:30:00\n"
     ]
    }
   ],
   "source": [
    "from datetime import datetime\n",
    "\n",
    "# Parse a string into a datetime object\n",
    "date_string = \"2024-03-11 14:30:00\"\n",
    "dt = datetime.strptime(date_string, \"%Y-%m-%d %H:%M:%S\")\n",
    "\n",
    "print(dt)  # Output: 2024-03-11 14:30:00\n"
   ]
  },
  {
   "cell_type": "code",
   "execution_count": null,
   "id": "38da14af",
   "metadata": {},
   "outputs": [],
   "source": []
  }
 ],
 "metadata": {
  "kernelspec": {
   "display_name": "Python 3 (ipykernel)",
   "language": "python",
   "name": "python3"
  },
  "language_info": {
   "codemirror_mode": {
    "name": "ipython",
    "version": 3
   },
   "file_extension": ".py",
   "mimetype": "text/x-python",
   "name": "python",
   "nbconvert_exporter": "python",
   "pygments_lexer": "ipython3",
   "version": "3.10.9"
  }
 },
 "nbformat": 4,
 "nbformat_minor": 5
}
