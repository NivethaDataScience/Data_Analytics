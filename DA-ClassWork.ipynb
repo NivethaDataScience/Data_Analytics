{
 "cells": [
  {
   "cell_type": "code",
   "execution_count": 2,
   "id": "e0671707",
   "metadata": {},
   "outputs": [
    {
     "name": "stdout",
     "output_type": "stream",
     "text": [
      "Angles: [0 1 2]\n",
      "sine_values: [0.         0.84147098 0.90929743]\n",
      "Inverse Sine Values: [0.         1.57079633        nan]\n"
     ]
    },
    {
     "name": "stderr",
     "output_type": "stream",
     "text": [
      "C:\\Users\\nivet\\AppData\\Local\\Temp\\ipykernel_11104\\360664560.py:6: RuntimeWarning: invalid value encountered in arcsin\n",
      "  inverse_sine=np.arcsin(angles)\n"
     ]
    }
   ],
   "source": [
    "import numpy as np\n",
    "angles=np.array([0,1,2])\n",
    "print(\"Angles:\",angles)\n",
    "sine_values=np.sin(angles)\n",
    "print(\"sine_values:\",sine_values)\n",
    "inverse_sine=np.arcsin(angles)\n",
    "print(\"Inverse Sine Values:\",inverse_sine)"
   ]
  },
  {
   "cell_type": "code",
   "execution_count": 6,
   "id": "38723df1",
   "metadata": {},
   "outputs": [
    {
     "name": "stdout",
     "output_type": "stream",
     "text": [
      "Enter array 1 (space-separated numbers): 1 2 4\n",
      "Enter array 2 (space-separated numbers): 4 5 6\n",
      "Sum of arrays: 22\n"
     ]
    }
   ],
   "source": [
    "import numpy as np\n",
    "first_array = np.array([int(x) for x in input(\"Enter array 1: \").split()])\n",
    "second_array = np.array([int(x) for x in input(\"Enter array 2: \").split()])\n",
    "add = np.sum([first_array, second_array])\n",
    "\n",
    "print(\"Sum of arrays:\", add)\n"
   ]
  },
  {
   "cell_type": "code",
   "execution_count": 8,
   "id": "61994214",
   "metadata": {},
   "outputs": [
    {
     "name": "stdout",
     "output_type": "stream",
     "text": [
      "array after round [1. 3. 3. 5.]\n"
     ]
    }
   ],
   "source": [
    "import numpy as np\n",
    "numbers=np.array([1.2346,2.6785,3.456,4.567])\n",
    "rounded_arrays=np.round(numbers)\n",
    "print(\"array after round\",rounded_arrays)"
   ]
  },
  {
   "cell_type": "code",
   "execution_count": 10,
   "id": "7467b041",
   "metadata": {},
   "outputs": [
    {
     "name": "stdout",
     "output_type": "stream",
     "text": [
      "Median is: 3.0\n",
      "Maximum number : 5\n"
     ]
    }
   ],
   "source": [
    "import numpy as np\n",
    "array1=np.array([1,2,3,4,5])\n",
    "median =np.median(array1)\n",
    "print(\"Median is:\",median)\n",
    "max=np.max(array1)\n",
    "print(\"Maximum number :\",max)"
   ]
  },
  {
   "cell_type": "code",
   "execution_count": 6,
   "id": "db098669",
   "metadata": {
    "scrolled": true
   },
   "outputs": [
    {
     "name": "stdout",
     "output_type": "stream",
     "text": [
      "[5 9]\n"
     ]
    }
   ],
   "source": [
    "import numpy as np\n",
    "\n",
    "a=np.array([[2, 4], [3, 5]])\n",
    "b=np.sum(a, axis=0)\n",
    "print(b)"
   ]
  },
  {
   "cell_type": "code",
   "execution_count": 7,
   "id": "215b8ddc",
   "metadata": {},
   "outputs": [
    {
     "name": "stdout",
     "output_type": "stream",
     "text": [
      "[ 8 15]\n"
     ]
    }
   ],
   "source": [
    "b=np.prod(a,axis=1)\n",
    "print(b)"
   ]
  },
  {
   "cell_type": "markdown",
   "id": "2f1edea5",
   "metadata": {},
   "source": [
    "arange Function"
   ]
  },
  {
   "cell_type": "code",
   "execution_count": 9,
   "id": "8396d7cd",
   "metadata": {},
   "outputs": [
    {
     "name": "stdout",
     "output_type": "stream",
     "text": [
      "[0 1 2 3 4 5 6 7 8 9]\n"
     ]
    }
   ],
   "source": [
    "a=np.arange(10)\n",
    "print(a)\n"
   ]
  },
  {
   "cell_type": "code",
   "execution_count": 10,
   "id": "c8ad15a8",
   "metadata": {},
   "outputs": [
    {
     "name": "stdout",
     "output_type": "stream",
     "text": [
      "[5 6 7 8 9]\n"
     ]
    }
   ],
   "source": [
    "a=np.arange(5,10)\n",
    "print(a)"
   ]
  },
  {
   "cell_type": "code",
   "execution_count": 11,
   "id": "39128625",
   "metadata": {},
   "outputs": [
    {
     "name": "stdout",
     "output_type": "stream",
     "text": [
      "[10  9  8  7  6  5  4  3  2]\n"
     ]
    }
   ],
   "source": [
    "a=np.arange(10,1,-1)\n",
    "print(a)"
   ]
  },
  {
   "cell_type": "code",
   "execution_count": 10,
   "id": "ea9f9977",
   "metadata": {},
   "outputs": [
    {
     "name": "stdout",
     "output_type": "stream",
     "text": [
      "[[4 5 6 7]\n",
      " [7 8 9 4]\n",
      " [4 5 6 7]]\n",
      "[[4 5]\n",
      " [6 7]\n",
      " [7 8]\n",
      " [9 4]\n",
      " [4 5]\n",
      " [6 7]]\n",
      "[[4]\n",
      " [5]\n",
      " [6]\n",
      " [7]\n",
      " [7]\n",
      " [8]\n",
      " [9]\n",
      " [4]\n",
      " [4]\n",
      " [5]\n",
      " [6]\n",
      " [7]]\n",
      "[[4 5 6 7 7 8 9 4 4 5 6 7]]\n",
      "[[4 5 6 7]\n",
      " [7 8 9 4]\n",
      " [4 5 6 7]]\n"
     ]
    }
   ],
   "source": [
    "import numpy as np\n",
    "d=np.array([[4,5,6,7],[7,8,9,4],[4,5,6,7]])\n",
    "print(d)\n",
    "d=d.reshape(6,2)\n",
    "print(d)\n",
    "d=d.reshape(12,1)\n",
    "print(d)\n",
    "d=d.reshape(1,12)\n",
    "print(d)\n",
    "d=d.reshape(3,4)\n",
    "print(d)"
   ]
  },
  {
   "cell_type": "code",
   "execution_count": 12,
   "id": "73895496",
   "metadata": {},
   "outputs": [
    {
     "name": "stdout",
     "output_type": "stream",
     "text": [
      "[3 5 6 7 8]\n",
      "[3 5 6 7 8]\n",
      "[3 5 6 7 8]\n",
      "[3 5 6 7 8]\n",
      "[45  5  6  7  8]\n"
     ]
    }
   ],
   "source": [
    "k=np.array([3,5,6,7,8])\n",
    "print(k)\n",
    "h=k.copy()\n",
    "print(h)\n",
    "print(k)\n",
    "k[0]=45\n",
    "print(h)\n",
    "print(k)"
   ]
  },
  {
   "cell_type": "code",
   "execution_count": 24,
   "id": "6e5b3481",
   "metadata": {},
   "outputs": [
    {
     "name": "stdout",
     "output_type": "stream",
     "text": [
      "[[1 1 1]\n",
      " [1 1 1]]\n",
      "[[4.67296746e-307 1.69121096e-306 1.95820760e-306 8.34441742e-308]\n",
      " [1.78022342e-306 6.23058028e-307 9.79107872e-307 6.89807188e-307]\n",
      " [7.56594375e-307 6.23060065e-307 1.78021527e-306 8.34454050e-308]\n",
      " [1.11261027e-306 1.15706896e-306 1.33512173e-306 1.33504432e-306]]\n"
     ]
    }
   ],
   "source": [
    "x=np.empty([2,3],dtype=int)\n",
    "y=np.empty([4,4],dtype=float)\n",
    "print(x)\n",
    "print(y)"
   ]
  },
  {
   "cell_type": "code",
   "execution_count": 15,
   "id": "0afbbd47",
   "metadata": {},
   "outputs": [
    {
     "name": "stdout",
     "output_type": "stream",
     "text": [
      "[[1. 0. 0.]\n",
      " [0. 1. 0.]\n",
      " [0. 0. 1.]]\n"
     ]
    }
   ],
   "source": [
    "import numpy as np\n",
    "a=np.eye(3)\n",
    "print(a)"
   ]
  },
  {
   "cell_type": "code",
   "execution_count": 18,
   "id": "dd6d2cdd",
   "metadata": {},
   "outputs": [
    {
     "name": "stdout",
     "output_type": "stream",
     "text": [
      "[[1 1]\n",
      " [1 1]\n",
      " [1 1]]\n"
     ]
    }
   ],
   "source": [
    "q=np.ones([3,2],dtype=int)\n",
    "print(q)"
   ]
  },
  {
   "cell_type": "code",
   "execution_count": 21,
   "id": "74747340",
   "metadata": {},
   "outputs": [
    {
     "name": "stdout",
     "output_type": "stream",
     "text": [
      "[[0 0 0 0 0 0 0 0]\n",
      " [0 0 0 0 0 0 0 0]\n",
      " [0 0 0 0 0 0 0 0]\n",
      " [0 0 0 0 0 0 0 0]\n",
      " [0 0 0 0 0 0 0 0]\n",
      " [0 0 0 0 0 0 0 0]\n",
      " [0 0 0 0 0 0 0 0]\n",
      " [0 0 0 0 0 0 0 0]]\n"
     ]
    }
   ],
   "source": [
    "q=np.zeros([8,8],dtype=int)\n",
    "print(q)"
   ]
  },
  {
   "cell_type": "code",
   "execution_count": 23,
   "id": "8e32e570",
   "metadata": {},
   "outputs": [
    {
     "name": "stdout",
     "output_type": "stream",
     "text": [
      "[[0 0 0]\n",
      " [0 0 0]]\n"
     ]
    }
   ],
   "source": [
    "q=np.empty([2,3],dtype=int)\n",
    "print(q)"
   ]
  },
  {
   "cell_type": "code",
   "execution_count": 2,
   "id": "d134c6ab",
   "metadata": {},
   "outputs": [
    {
     "name": "stdout",
     "output_type": "stream",
     "text": [
      "1\n"
     ]
    }
   ],
   "source": [
    "import pandas as pd\n",
    "a=[1,2,3]\n",
    "my_var=pd.Series(a)\n",
    "print(my_var[0])"
   ]
  },
  {
   "cell_type": "code",
   "execution_count": 3,
   "id": "41ee3ae3",
   "metadata": {},
   "outputs": [
    {
     "name": "stdout",
     "output_type": "stream",
     "text": [
      "x    1\n",
      "y    2\n",
      "z    3\n",
      "dtype: int64\n"
     ]
    }
   ],
   "source": [
    "my_var=pd.Series(a,index=[\"x\",\"y\",\"z\"])\n",
    "print(my_var)"
   ]
  },
  {
   "cell_type": "code",
   "execution_count": 9,
   "id": "1714163a",
   "metadata": {},
   "outputs": [
    {
     "name": "stdout",
     "output_type": "stream",
     "text": [
      "day1    390\n",
      "day2    490\n",
      "day3    789\n",
      "dtype: int64\n"
     ]
    }
   ],
   "source": [
    "calories ={\"day1\":390,\"day2\":490,\"day3\":789}\n",
    "my_var=pd.Series(calories)\n",
    "print(my_var)"
   ]
  },
  {
   "cell_type": "code",
   "execution_count": 13,
   "id": "7a26fb5f",
   "metadata": {},
   "outputs": [
    {
     "name": "stdout",
     "output_type": "stream",
     "text": [
      "day1    390\n",
      "day2    490\n",
      "dtype: int64\n"
     ]
    }
   ],
   "source": [
    "calories ={\"day1\":390,\"day2\":490,\"day3\":789}\n",
    "my_var=pd.Series(calories,index=[\"day1\",\"day2\"])\n",
    "print(my_var)"
   ]
  },
  {
   "cell_type": "code",
   "execution_count": 17,
   "id": "44131fca",
   "metadata": {},
   "outputs": [
    {
     "name": "stdout",
     "output_type": "stream",
     "text": [
      "   calories  duration\n",
      "0       420        50\n",
      "1       346        45\n",
      "2       678        67\n"
     ]
    }
   ],
   "source": [
    "import pandas as pd\n",
    "data={\n",
    "    \"calories\":[420,346,678],\n",
    "    \"duration\":[50,45,67]\n",
    "}\n",
    "df=pd.DataFrame(data)\n",
    "print(df)"
   ]
  },
  {
   "cell_type": "code",
   "execution_count": 18,
   "id": "7b422a09",
   "metadata": {},
   "outputs": [
    {
     "name": "stdout",
     "output_type": "stream",
     "text": [
      "calories    346\n",
      "duration     45\n",
      "Name: 1, dtype: int64\n"
     ]
    }
   ],
   "source": [
    "import pandas as pd\n",
    "data={\n",
    "    \"calories\":[420,346,678],\n",
    "    \"duration\":[50,45,67]\n",
    "}\n",
    "print(df.loc[1])"
   ]
  },
  {
   "cell_type": "code",
   "execution_count": 20,
   "id": "536388dc",
   "metadata": {},
   "outputs": [
    {
     "name": "stdout",
     "output_type": "stream",
     "text": [
      "   calories  duration\n",
      "0       420        50\n",
      "1       346        45\n",
      "2       678        67\n"
     ]
    }
   ],
   "source": [
    "print(df.loc[0:2])"
   ]
  },
  {
   "cell_type": "code",
   "execution_count": 22,
   "id": "0b4e0140",
   "metadata": {},
   "outputs": [
    {
     "name": "stdout",
     "output_type": "stream",
     "text": [
      "      calories  duration\n",
      "day1       420        50\n",
      "day2       346        45\n",
      "day3       678        67\n"
     ]
    }
   ],
   "source": [
    "df=pd.DataFrame(data,index=[\"day1\",\"day2\",\"day3\"])\n",
    "print(df)"
   ]
  },
  {
   "cell_type": "code",
   "execution_count": 25,
   "id": "609dcdac",
   "metadata": {},
   "outputs": [
    {
     "data": {
      "text/html": [
       "<div>\n",
       "<style scoped>\n",
       "    .dataframe tbody tr th:only-of-type {\n",
       "        vertical-align: middle;\n",
       "    }\n",
       "\n",
       "    .dataframe tbody tr th {\n",
       "        vertical-align: top;\n",
       "    }\n",
       "\n",
       "    .dataframe thead th {\n",
       "        text-align: right;\n",
       "    }\n",
       "</style>\n",
       "<table border=\"1\" class=\"dataframe\">\n",
       "  <thead>\n",
       "    <tr style=\"text-align: right;\">\n",
       "      <th></th>\n",
       "      <th>Country</th>\n",
       "      <th>Age</th>\n",
       "      <th>Salary</th>\n",
       "      <th>Purchased</th>\n",
       "    </tr>\n",
       "  </thead>\n",
       "  <tbody>\n",
       "    <tr>\n",
       "      <th>0</th>\n",
       "      <td>France</td>\n",
       "      <td>44.0</td>\n",
       "      <td>72000.0</td>\n",
       "      <td>No</td>\n",
       "    </tr>\n",
       "    <tr>\n",
       "      <th>1</th>\n",
       "      <td>Spain</td>\n",
       "      <td>27.0</td>\n",
       "      <td>48000.0</td>\n",
       "      <td>Yes</td>\n",
       "    </tr>\n",
       "    <tr>\n",
       "      <th>2</th>\n",
       "      <td>Germany</td>\n",
       "      <td>30.0</td>\n",
       "      <td>54000.0</td>\n",
       "      <td>No</td>\n",
       "    </tr>\n",
       "    <tr>\n",
       "      <th>3</th>\n",
       "      <td>Spain</td>\n",
       "      <td>38.0</td>\n",
       "      <td>61000.0</td>\n",
       "      <td>No</td>\n",
       "    </tr>\n",
       "    <tr>\n",
       "      <th>4</th>\n",
       "      <td>Germany</td>\n",
       "      <td>40.0</td>\n",
       "      <td>NaN</td>\n",
       "      <td>Yes</td>\n",
       "    </tr>\n",
       "  </tbody>\n",
       "</table>\n",
       "</div>"
      ],
      "text/plain": [
       "   Country   Age   Salary Purchased\n",
       "0   France  44.0  72000.0        No\n",
       "1    Spain  27.0  48000.0       Yes\n",
       "2  Germany  30.0  54000.0        No\n",
       "3    Spain  38.0  61000.0        No\n",
       "4  Germany  40.0      NaN       Yes"
      ]
     },
     "execution_count": 25,
     "metadata": {},
     "output_type": "execute_result"
    }
   ],
   "source": [
    "df=pd.read_csv(\"Data.csv\")\n",
    "df.head()\n"
   ]
  },
  {
   "cell_type": "code",
   "execution_count": 3,
   "id": "7756479b",
   "metadata": {},
   "outputs": [
    {
     "name": "stdout",
     "output_type": "stream",
     "text": [
      "          a         b         c         d         e\n",
      "A  0.351170  0.070102  0.003040  0.027395  0.905804\n",
      "B  0.018615  0.837321  0.970081  0.493812  0.326565\n",
      "C  0.871659  0.599553  0.022019  0.529935  0.373030\n",
      "D  0.567382  0.202115  0.903974  0.509080  0.448391\n",
      "E  0.134902  0.862639  0.800583  0.689026  0.664634\n",
      "Dataframe after reindexing rows           a         b         c         d         e\n",
      "B  0.018615  0.837321  0.970081  0.493812  0.326565\n",
      "D  0.567382  0.202115  0.903974  0.509080  0.448391\n",
      "A  0.351170  0.070102  0.003040  0.027395  0.905804\n",
      "C  0.871659  0.599553  0.022019  0.529935  0.373030\n",
      "E  0.134902  0.862639  0.800583  0.689026  0.664634\n"
     ]
    }
   ],
   "source": [
    "import pandas as pd\n",
    "import numpy as np\n",
    "column=['a','b','c','d','e']\n",
    "index=['A','B','C','D','E']\n",
    "df1=pd.DataFrame(np.random.rand(5,5),columns=column,index=index)\n",
    "print(df1)\n",
    "print(\"Dataframe after reindexing rows\",df1.reindex(['B','D','A','C','E']))"
   ]
  },
  {
   "cell_type": "code",
   "execution_count": 4,
   "id": "3eda6ec2",
   "metadata": {},
   "outputs": [
    {
     "name": "stdout",
     "output_type": "stream",
     "text": [
      "          a         b         c         d         e\n",
      "U       NaN       NaN       NaN       NaN       NaN\n",
      "A  0.351170  0.070102  0.003040  0.027395  0.905804\n",
      "B  0.018615  0.837321  0.970081  0.493812  0.326565\n",
      "0       NaN       NaN       NaN       NaN       NaN\n",
      "2       NaN       NaN       NaN       NaN       NaN\n"
     ]
    }
   ],
   "source": [
    "new_index=['U','A','B','0','2']\n",
    "print(df1.reindex(new_index))"
   ]
  },
  {
   "cell_type": "code",
   "execution_count": 5,
   "id": "68499849",
   "metadata": {},
   "outputs": [
    {
     "name": "stdout",
     "output_type": "stream",
     "text": [
      "          e         a         b         c         d\n",
      "A  0.905804  0.351170  0.070102  0.003040  0.027395\n",
      "B  0.326565  0.018615  0.837321  0.970081  0.493812\n",
      "C  0.373030  0.871659  0.599553  0.022019  0.529935\n",
      "D  0.448391  0.567382  0.202115  0.903974  0.509080\n",
      "E  0.664634  0.134902  0.862639  0.800583  0.689026\n"
     ]
    }
   ],
   "source": [
    "column=['e','a','b','c','d']\n",
    "print(df1.reindex(column,axis='columns'))"
   ]
  },
  {
   "cell_type": "code",
   "execution_count": 14,
   "id": "f496d4fb",
   "metadata": {},
   "outputs": [
    {
     "name": "stdout",
     "output_type": "stream",
     "text": [
      "          e         a         b         c         d\n",
      "A  0.905804  0.351170  0.070102  0.003040  0.027395\n",
      "B  0.326565  0.018615  0.837321  0.970081  0.493812\n",
      "C  0.373030  0.871659  0.599553  0.022019  0.529935\n",
      "D  0.448391  0.567382  0.202115  0.903974  0.509080\n",
      "E  0.664634  0.134902  0.862639  0.800583  0.689026\n"
     ]
    }
   ],
   "source": [
    "print(df1.reindex(column,axis='columns',fill_value=1.5))"
   ]
  },
  {
   "cell_type": "code",
   "execution_count": 24,
   "id": "c77cca3d",
   "metadata": {},
   "outputs": [
    {
     "name": "stdout",
     "output_type": "stream",
     "text": [
      "------Before-----\n",
      "        age  qualified\n",
      "Sally    50       True\n",
      "Mercy    40      False\n",
      "John     30      False\n",
      "Monica   40       True\n"
     ]
    },
    {
     "ename": "AttributeError",
     "evalue": "'DataFrame' object has no attribute 'new_index'",
     "output_type": "error",
     "traceback": [
      "\u001b[1;31m---------------------------------------------------------------------------\u001b[0m",
      "\u001b[1;31mAttributeError\u001b[0m                            Traceback (most recent call last)",
      "Cell \u001b[1;32mIn[24], line 11\u001b[0m\n\u001b[0;32m      9\u001b[0m \u001b[38;5;28mprint\u001b[39m(df)\n\u001b[0;32m     10\u001b[0m new_index\u001b[38;5;241m=\u001b[39m[\u001b[38;5;124m\"\u001b[39m\u001b[38;5;124mRobia\u001b[39m\u001b[38;5;124m\"\u001b[39m,\u001b[38;5;124m\"\u001b[39m\u001b[38;5;124mCindy\u001b[39m\u001b[38;5;124m\"\u001b[39m,\u001b[38;5;124m\"\u001b[39m\u001b[38;5;124mChole\u001b[39m\u001b[38;5;124m\"\u001b[39m,\u001b[38;5;124m\"\u001b[39m\u001b[38;5;124mretor\u001b[39m\u001b[38;5;124m\"\u001b[39m]\n\u001b[1;32m---> 11\u001b[0m newdf\u001b[38;5;241m=\u001b[39m\u001b[43mdf\u001b[49m\u001b[38;5;241;43m.\u001b[39;49m\u001b[43mnew_index\u001b[49m(new_index)\n\u001b[0;32m     12\u001b[0m \u001b[38;5;28mprint\u001b[39m(\u001b[38;5;124m\"\u001b[39m\u001b[38;5;124m-------After------\u001b[39m\u001b[38;5;124m\"\u001b[39m)\n\u001b[0;32m     13\u001b[0m \u001b[38;5;28mprint\u001b[39m(df)\n",
      "File \u001b[1;32m~\\anaconda3\\lib\\site-packages\\pandas\\core\\generic.py:5902\u001b[0m, in \u001b[0;36mNDFrame.__getattr__\u001b[1;34m(self, name)\u001b[0m\n\u001b[0;32m   5895\u001b[0m \u001b[38;5;28;01mif\u001b[39;00m (\n\u001b[0;32m   5896\u001b[0m     name \u001b[38;5;129;01mnot\u001b[39;00m \u001b[38;5;129;01min\u001b[39;00m \u001b[38;5;28mself\u001b[39m\u001b[38;5;241m.\u001b[39m_internal_names_set\n\u001b[0;32m   5897\u001b[0m     \u001b[38;5;129;01mand\u001b[39;00m name \u001b[38;5;129;01mnot\u001b[39;00m \u001b[38;5;129;01min\u001b[39;00m \u001b[38;5;28mself\u001b[39m\u001b[38;5;241m.\u001b[39m_metadata\n\u001b[0;32m   5898\u001b[0m     \u001b[38;5;129;01mand\u001b[39;00m name \u001b[38;5;129;01mnot\u001b[39;00m \u001b[38;5;129;01min\u001b[39;00m \u001b[38;5;28mself\u001b[39m\u001b[38;5;241m.\u001b[39m_accessors\n\u001b[0;32m   5899\u001b[0m     \u001b[38;5;129;01mand\u001b[39;00m \u001b[38;5;28mself\u001b[39m\u001b[38;5;241m.\u001b[39m_info_axis\u001b[38;5;241m.\u001b[39m_can_hold_identifiers_and_holds_name(name)\n\u001b[0;32m   5900\u001b[0m ):\n\u001b[0;32m   5901\u001b[0m     \u001b[38;5;28;01mreturn\u001b[39;00m \u001b[38;5;28mself\u001b[39m[name]\n\u001b[1;32m-> 5902\u001b[0m \u001b[38;5;28;01mreturn\u001b[39;00m \u001b[38;5;28;43mobject\u001b[39;49m\u001b[38;5;241;43m.\u001b[39;49m\u001b[38;5;21;43m__getattribute__\u001b[39;49m\u001b[43m(\u001b[49m\u001b[38;5;28;43mself\u001b[39;49m\u001b[43m,\u001b[49m\u001b[43m \u001b[49m\u001b[43mname\u001b[49m\u001b[43m)\u001b[49m\n",
      "\u001b[1;31mAttributeError\u001b[0m: 'DataFrame' object has no attribute 'new_index'"
     ]
    }
   ],
   "source": [
    "import pandas as pd\n",
    "data={\n",
    "    \"age\":[50,40,30,40],\n",
    "    \"qualified\":[True,False,False,True]\n",
    "}\n",
    "idx=[\"Sally\",\"Mercy\",\"John\",\"Monica\"]\n",
    "df=pd.DataFrame(data,index=idx)\n",
    "print(\"------Before-----\")\n",
    "print(df)\n",
    "new_index=[\"Robia\",\"Cindy\",\"Chole\",\"retor\"]\n",
    "newdf=df.new_index(new_index)\n",
    "print(\"-------After------\")\n",
    "print(df)"
   ]
  },
  {
   "cell_type": "code",
   "execution_count": 1,
   "id": "cd5d80d1",
   "metadata": {},
   "outputs": [
    {
     "data": {
      "text/html": [
       "<div>\n",
       "<style scoped>\n",
       "    .dataframe tbody tr th:only-of-type {\n",
       "        vertical-align: middle;\n",
       "    }\n",
       "\n",
       "    .dataframe tbody tr th {\n",
       "        vertical-align: top;\n",
       "    }\n",
       "\n",
       "    .dataframe thead th {\n",
       "        text-align: right;\n",
       "    }\n",
       "</style>\n",
       "<table border=\"1\" class=\"dataframe\">\n",
       "  <thead>\n",
       "    <tr style=\"text-align: right;\">\n",
       "      <th></th>\n",
       "      <th>Name</th>\n",
       "      <th>Age</th>\n",
       "      <th>Gender</th>\n",
       "      <th>Marks</th>\n",
       "    </tr>\n",
       "  </thead>\n",
       "  <tbody>\n",
       "    <tr>\n",
       "      <th>0</th>\n",
       "      <td>Nivi</td>\n",
       "      <td>17</td>\n",
       "      <td>Female</td>\n",
       "      <td>90</td>\n",
       "    </tr>\n",
       "    <tr>\n",
       "      <th>1</th>\n",
       "      <td>logs</td>\n",
       "      <td>15</td>\n",
       "      <td>Female</td>\n",
       "      <td>20</td>\n",
       "    </tr>\n",
       "    <tr>\n",
       "      <th>2</th>\n",
       "      <td>Harsha</td>\n",
       "      <td>17</td>\n",
       "      <td>Female</td>\n",
       "      <td>NaN</td>\n",
       "    </tr>\n",
       "  </tbody>\n",
       "</table>\n",
       "</div>"
      ],
      "text/plain": [
       "     Name  Age  Gender Marks\n",
       "0    Nivi   17  Female    90\n",
       "1    logs   15  Female    20\n",
       "2  Harsha   17  Female   NaN"
      ]
     },
     "execution_count": 1,
     "metadata": {},
     "output_type": "execute_result"
    }
   ],
   "source": [
    "import pandas as pd\n",
    "data={'Name':['Nivi','logs','Harsha'],\n",
    "     'Age':[17,15,17],\n",
    "     'Gender':['Female','Female','Female'],\n",
    "      'Marks':[90,20,'NaN']}\n",
    "df=pd.DataFrame(data)\n",
    "df"
   ]
  },
  {
   "cell_type": "code",
   "execution_count": 10,
   "id": "92a4eea4",
   "metadata": {},
   "outputs": [],
   "source": [
    "df=df.replace(to_replace=\"NaN\",value=89)"
   ]
  },
  {
   "cell_type": "code",
   "execution_count": 11,
   "id": "0b4bb607",
   "metadata": {},
   "outputs": [
    {
     "data": {
      "text/html": [
       "<div>\n",
       "<style scoped>\n",
       "    .dataframe tbody tr th:only-of-type {\n",
       "        vertical-align: middle;\n",
       "    }\n",
       "\n",
       "    .dataframe tbody tr th {\n",
       "        vertical-align: top;\n",
       "    }\n",
       "\n",
       "    .dataframe thead th {\n",
       "        text-align: right;\n",
       "    }\n",
       "</style>\n",
       "<table border=\"1\" class=\"dataframe\">\n",
       "  <thead>\n",
       "    <tr style=\"text-align: right;\">\n",
       "      <th></th>\n",
       "      <th>Name</th>\n",
       "      <th>Age</th>\n",
       "      <th>Gender</th>\n",
       "      <th>Marks</th>\n",
       "    </tr>\n",
       "  </thead>\n",
       "  <tbody>\n",
       "    <tr>\n",
       "      <th>0</th>\n",
       "      <td>Nivi</td>\n",
       "      <td>17</td>\n",
       "      <td>Female</td>\n",
       "      <td>90</td>\n",
       "    </tr>\n",
       "    <tr>\n",
       "      <th>1</th>\n",
       "      <td>logs</td>\n",
       "      <td>15</td>\n",
       "      <td>Female</td>\n",
       "      <td>20</td>\n",
       "    </tr>\n",
       "    <tr>\n",
       "      <th>2</th>\n",
       "      <td>Harsha</td>\n",
       "      <td>17</td>\n",
       "      <td>Female</td>\n",
       "      <td>89</td>\n",
       "    </tr>\n",
       "  </tbody>\n",
       "</table>\n",
       "</div>"
      ],
      "text/plain": [
       "     Name  Age  Gender  Marks\n",
       "0    Nivi   17  Female     90\n",
       "1    logs   15  Female     20\n",
       "2  Harsha   17  Female     89"
      ]
     },
     "execution_count": 11,
     "metadata": {},
     "output_type": "execute_result"
    }
   ],
   "source": [
    "df"
   ]
  },
  {
   "cell_type": "code",
   "execution_count": 12,
   "id": "64b7f2e8",
   "metadata": {},
   "outputs": [],
   "source": [
    "df=df[df['Marks']>=80].copy()"
   ]
  },
  {
   "cell_type": "code",
   "execution_count": 14,
   "id": "b2337484",
   "metadata": {},
   "outputs": [],
   "source": [
    "df.drop('Age',axis=1,inplace=True)"
   ]
  },
  {
   "cell_type": "code",
   "execution_count": 15,
   "id": "76d0d6d6",
   "metadata": {},
   "outputs": [
    {
     "data": {
      "text/html": [
       "<div>\n",
       "<style scoped>\n",
       "    .dataframe tbody tr th:only-of-type {\n",
       "        vertical-align: middle;\n",
       "    }\n",
       "\n",
       "    .dataframe tbody tr th {\n",
       "        vertical-align: top;\n",
       "    }\n",
       "\n",
       "    .dataframe thead th {\n",
       "        text-align: right;\n",
       "    }\n",
       "</style>\n",
       "<table border=\"1\" class=\"dataframe\">\n",
       "  <thead>\n",
       "    <tr style=\"text-align: right;\">\n",
       "      <th></th>\n",
       "      <th>Name</th>\n",
       "      <th>Gender</th>\n",
       "      <th>Marks</th>\n",
       "    </tr>\n",
       "  </thead>\n",
       "  <tbody>\n",
       "    <tr>\n",
       "      <th>0</th>\n",
       "      <td>Nivi</td>\n",
       "      <td>Female</td>\n",
       "      <td>90</td>\n",
       "    </tr>\n",
       "    <tr>\n",
       "      <th>2</th>\n",
       "      <td>Harsha</td>\n",
       "      <td>Female</td>\n",
       "      <td>89</td>\n",
       "    </tr>\n",
       "  </tbody>\n",
       "</table>\n",
       "</div>"
      ],
      "text/plain": [
       "     Name  Gender  Marks\n",
       "0    Nivi  Female     90\n",
       "2  Harsha  Female     89"
      ]
     },
     "execution_count": 15,
     "metadata": {},
     "output_type": "execute_result"
    }
   ],
   "source": [
    "df"
   ]
  },
  {
   "cell_type": "code",
   "execution_count": 17,
   "id": "720d909e",
   "metadata": {},
   "outputs": [
    {
     "name": "stdout",
     "output_type": "stream",
     "text": [
      "    ID   Name Branch\n",
      "0  101   Nivi     DS\n",
      "1  102   logs     DS\n",
      "2  103   Niva     DS\n",
      "3  104  Harsh     CS\n",
      "4  105    swe     CS\n"
     ]
    }
   ],
   "source": [
    "import pandas as pd\n",
    "details=pd.DataFrame({\n",
    "    'ID':[101,102,103,104,105],\n",
    "    'Name':['Nivi','logs','Niva','Harsh','swe'],\n",
    "    'Branch':['DS','DS','DS','CS','CS']})\n",
    "print(details)"
   ]
  },
  {
   "cell_type": "code",
   "execution_count": 21,
   "id": "bab41dd1",
   "metadata": {},
   "outputs": [
    {
     "name": "stdout",
     "output_type": "stream",
     "text": [
      "    ID            Fees\n",
      "0  101            paid\n",
      "1  102        not paid\n",
      "2  103            paid\n",
      "3  104  partially paid\n",
      "4  105            paid\n"
     ]
    }
   ],
   "source": [
    "import pandas as pd\n",
    "fees=pd.DataFrame({\n",
    "    'ID':[101,102,103,104,105],\n",
    "    'Fees':['paid','not paid','paid','partially paid','paid']})\n",
    "print(fees)"
   ]
  },
  {
   "cell_type": "code",
   "execution_count": 22,
   "id": "e314fdda",
   "metadata": {},
   "outputs": [
    {
     "name": "stdout",
     "output_type": "stream",
     "text": [
      "    ID   Name Branch            Fees\n",
      "0  101   Nivi     DS            paid\n",
      "1  102   logs     DS        not paid\n",
      "2  103   Niva     DS            paid\n",
      "3  104  Harsh     CS  partially paid\n",
      "4  105    swe     CS            paid\n"
     ]
    }
   ],
   "source": [
    "print(pd.merge(details,fees,on='ID'))"
   ]
  },
  {
   "cell_type": "code",
   "execution_count": 2,
   "id": "9b2a96e9",
   "metadata": {},
   "outputs": [
    {
     "data": {
      "image/png": "[encoded data removed]",
      "text/plain": [
       "<Figure size 750x350 with 1 Axes>"
      ]
     },
     "metadata": {},
     "output_type": "display_data"
    }
   ],
   "source": [
    "import numpy as np\n",
    "from matplotlib import pyplot as plt\n",
    "plt.rcParams[\"figure.figsize\"]=[7.50,3.50]\n",
    "plt.rcParams[\"figure.autolayout\"]=False\n",
    "fig=plt.figure()\n",
    "ax=fig.add_subplot(111)\n",
    "x=np.linspace(-10,10,100)\n",
    "y=np.sin(x)\n",
    "plt.plot(x,y)\n",
    "ax.tick_params(axis='x',colors='red')\n",
    "plt.show()"
   ]
  },
  {
   "cell_type": "code",
   "execution_count": 11,
   "id": "c8ac5fcc",
   "metadata": {},
   "outputs": [
    {
     "data": {
      "image/png": "[encoded data removed]",
      "text/plain": [
       "<Figure size 750x350 with 1 Axes>"
      ]
     },
     "metadata": {},
     "output_type": "display_data"
    }
   ],
   "source": [
    "import matplotlib.pyplot as plt\n",
    "x=y=[i for i in range(0,10)]\n",
    "ax=plt.axes()\n",
    "plt.plot(x,y,color=\"lime\")\n",
    "ax.set_xticks([2,4,6,8,10])\n",
    "ax.set_yticks([1,3,5,7,9])\n",
    "plt.show()"
   ]
  },
  {
   "cell_type": "code",
   "execution_count": 15,
   "id": "29c4df6e",
   "metadata": {},
   "outputs": [
    {
     "data": {
      "image/png": "[encoded data removed]",
      "text/plain": [
       "<Figure size 750x350 with 1 Axes>"
      ]
     },
     "metadata": {},
     "output_type": "display_data"
    }
   ],
   "source": [
    "import matplotlib.pyplot as plt\n",
    "\n",
    "x = y = [i for i in range(0, 10)]\n",
    "ax = plt.axes()\n",
    "plt.plot(x, y, color=\"lime\")\n",
    "ax.set_xticks([0, 2, 4, 6, 8])  # Adjusted the x-axis tick positions to match the data range\n",
    "ax.set_xticklabels(['0', '2', '4', '6', '8'])  # Adjusted the x-axis tick labels to match the tick positions\n",
    "ax.set_yticks([0, 2, 4, 6, 8])  # Adjusted the y-axis tick positions to match the data range\n",
    "ax.set_yticklabels(['0', '2', '4', '6', '8'])  # Adjusted the y-axis tick labels to match the tick positions\n",
    "\n",
    "plt.show()\n"
   ]
  },
  {
   "cell_type": "code",
   "execution_count": 1,
   "id": "b4cf734d",
   "metadata": {},
   "outputs": [
    {
     "data": {
      "image/png": "[encoded data removed]",
      "text/plain": [
       "<Figure size 640x480 with 1 Axes>"
      ]
     },
     "metadata": {},
     "output_type": "display_data"
    }
   ],
   "source": [
    "import matplotlib.pyplot as plt\n",
    "\n",
    "# Sample data\n",
    "x = [1, 2, 3, 4, 5]\n",
    "y1 = [10, 15, 20, 25, 30]\n",
    "y2 = [5, 10, 15, 20, 25]\n",
    "\n",
    "# Plotting the data\n",
    "plt.plot(x, y1, label='Line 1')\n",
    "plt.plot(x, y2, label='Line 2')\n",
    "\n",
    "# Adding labels and title\n",
    "plt.xlabel('X-axis Label')\n",
    "plt.ylabel('Y-axis Label')\n",
    "plt.title('Example Plot')\n",
    "\n",
    "# Adding ticks\n",
    "plt.xticks([1, 2, 3, 4, 5], ['A', 'B', 'C', 'D', 'E'])  # Customizing x-axis ticks\n",
    "plt.yticks(range(0, 35, 5))  # Customizing y-axis ticks\n",
    "\n",
    "# Adding legend\n",
    "plt.legend()\n",
    "\n",
    "# Displaying the plot\n",
    "plt.show()\n"
   ]
  },
  {
   "cell_type": "code",
   "execution_count": 1,
   "id": "9a90c3b8",
   "metadata": {},
   "outputs": [
    {
     "name": "stdout",
     "output_type": "stream",
     "text": [
      "-3\n"
     ]
    }
   ],
   "source": [
    "import numpy as np\n",
    "\n",
    "arr = np.arange(25).reshape(5, 5)\n",
    "arr[arr.argmin()] = -1\n",
    "print(arr.min() * 3)\n"
   ]
  },
  {
   "cell_type": "code",
   "execution_count": 5,
   "id": "88196513",
   "metadata": {},
   "outputs": [
    {
     "name": "stderr",
     "output_type": "stream",
     "text": [
      "No artists with labels found to put in legend.  Note that artists whose label start with an underscore are ignored when legend() is called with no argument.\n"
     ]
    },
    {
     "data": {
      "text/plain": [
       "[<matplotlib.lines.Line2D at 0x14640c71e10>]"
      ]
     },
     "execution_count": 5,
     "metadata": {},
     "output_type": "execute_result"
    },
    {
     "data": {
      "image/png": "[encoded data removed]",
      "text/plain": [
       "<Figure size 640x480 with 1 Axes>"
      ]
     },
     "metadata": {},
     "output_type": "display_data"
    }
   ],
   "source": [
    "import matplotlib.pyplot as plt\n",
    "import numpy as np\n",
    "fig = plt.figure()\n",
    "ax = plt.axes()\n",
    "x=np.array([1,2,3,4])\n",
    "y=x**2\n",
    "ax.plot(x,y)\n"
   ]
  },
  {
   "cell_type": "code",
   "execution_count": null,
   "id": "21f3f2e1",
   "metadata": {},
   "outputs": [],
   "source": []
  }
 ],
 "metadata": {
  "kernelspec": {
   "display_name": "Python 3 (ipykernel)",
   "language": "python",
   "name": "python3"
  },
  "language_info": {
   "codemirror_mode": {
    "name": "ipython",
    "version": 3
   },
   "file_extension": ".py",
   "mimetype": "text/x-python",
   "name": "python",
   "nbconvert_exporter": "python",
   "pygments_lexer": "ipython3",
   "version": "3.10.9"
  }
 },
 "nbformat": 4,
 "nbformat_minor": 5
}
